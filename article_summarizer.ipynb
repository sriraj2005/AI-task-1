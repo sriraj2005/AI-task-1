{
  "cells": [
    {
      "cell_type": "code",
      "source": [
        "from transformers import pipeline\n",
        "\n",
        "def summarize_article(text, max_length=130, min_length=30):\n",
        "    \"\"\"\n",
        "    Summarize the given article text using a pretrained transformer model.\n",
        "    \"\"\"\n",
        "    summarizer = pipeline(\"summarization\", model=\"facebook/bart-large-cnn\")\n",
        "\n",
        "    summary = summarizer(text, max_length=max_length, min_length=min_length, do_sample=False)\n",
        "\n",
        "    return summary[0]['summary_text']\n",
        "\n",
        "\n",
        "if __name__ == \"__main__\":\n",
        "    print(\"\\n📄 Enter the article text (or paste a long article):\\n\")\n",
        "    input_text = []\n",
        "    print(\"Paste your text (type 'END' in a new line to finish):\")\n",
        "\n",
        "    while True:\n",
        "        line = input()\n",
        "        if line.strip().upper() == 'END':\n",
        "            break\n",
        "        input_text.append(line)\n",
        "\n",
        "    article = \" \".join(input_text)\n",
        "\n",
        "    print(\"\\n⏳ Summarizing the article...\\n\")\n",
        "    summary = summarize_article(article)\n",
        "\n",
        "    print(\"✅ Summary:\\n\")\n",
        "    print(summary)\n"
      ],
      "metadata": {
        "colab": {
          "base_uri": "https://localhost:8080/"
        },
        "id": "Xk8ZqvI85HO4",
        "outputId": "52c2cde5-37c3-40e5-8bc3-470339ad9fd4"
      },
      "execution_count": null,
      "outputs": [
        {
          "metadata": {
            "tags": null
          },
          "name": "stdout",
          "output_type": "stream",
          "text": [
            "\n",
            "📄 Enter the article text (or paste a long article):\n",
            "\n",
            "Paste your text (type 'END' in a new line to finish):\n"
          ]
        }
      ]
    },
    {
      "cell_type": "code",
      "source": [],
      "metadata": {
        "id": "3Ahm6inE5YBX"
      },
      "execution_count": null,
      "outputs": []
    }
  ],
  "metadata": {
    "colab": {
      "provenance": []
    },
    "kernelspec": {
      "display_name": "Python 3",
      "name": "python3"
    },
    "language_info": {
      "name": "python"
    }
  },
  "nbformat": 4,
  "nbformat_minor": 0
}